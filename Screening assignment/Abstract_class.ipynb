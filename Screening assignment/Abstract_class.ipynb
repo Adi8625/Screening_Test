{
 "cells": [
  {
   "cell_type": "markdown",
   "metadata": {},
   "source": [
    "### Abstract Class\n",
    "Abstract class is the blueprint of the program,\n",
    "The class or a child class having one or more abstract method is called as an abstract class.\n",
    "An abstract method is a method that has a declaration but does not have an implementation.\n",
    "By default python doesn't support abstract class so we have to use \"abc\" module\n",
    "the example given below"
   ]
  },
  {
   "cell_type": "code",
   "execution_count": 1,
   "metadata": {},
   "outputs": [],
   "source": [
    "from abc import ABC, abstractmethod\n",
    "\n",
    "class CorrBoard(ABC):\n",
    "    Shape = \"Rectangle\"\n",
    "    Length_mm =  120\n",
    "    Breadth_mm = 100\n",
    "    Flute = \"BA\"\n",
    "    Rate_Per_Sq_Mtr = 100\n",
    "    bursting_factor = 28\n",
    "    \n",
    "    \n",
    "    @abstractmethod\n",
    "    def area(self):\n",
    "        pass\n",
    "    \n",
    "    def price(self):\n",
    "        pass\n",
    "\n",
    "    def bursting_strength(self):\n",
    "        pass\n",
    "\n"
   ]
  },
  {
   "cell_type": "markdown",
   "metadata": {},
   "source": [
    "The above example shows the class having the abstract method therefore it is and abstract class"
   ]
  }
 ],
 "metadata": {
  "interpreter": {
   "hash": "c93573fdd8ef4564bf1c2e292669be22262dc77319d4aef3d250a4aabeca8ecd"
  },
  "kernelspec": {
   "display_name": "Python 3.9.6 64-bit",
   "language": "python",
   "name": "python3"
  },
  "language_info": {
   "codemirror_mode": {
    "name": "ipython",
    "version": 3
   },
   "file_extension": ".py",
   "mimetype": "text/x-python",
   "name": "python",
   "nbconvert_exporter": "python",
   "pygments_lexer": "ipython3",
   "version": "3.9.6"
  },
  "orig_nbformat": 4
 },
 "nbformat": 4,
 "nbformat_minor": 2
}
