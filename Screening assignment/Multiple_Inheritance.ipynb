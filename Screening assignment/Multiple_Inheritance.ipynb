{
 "cells": [
  {
   "cell_type": "markdown",
   "metadata": {},
   "source": [
    "### Multiple Inheritance\n",
    "Multiple inheritance refer to the inheriting the property of two or more parent classes \n",
    "the example is as given below\n"
   ]
  },
  {
   "cell_type": "code",
   "execution_count": 8,
   "metadata": {},
   "outputs": [],
   "source": [
    "class Paper:\n",
    "    def Bursting_factor(self):\n",
    "        print('my brusting factor is 28 kg/cm^2')\n",
    "    \n",
    "class Board(Paper):\n",
    "    def Area(self):\n",
    "        print('I have 20 m^2 area')\n",
    "\n",
    "class Sleeve(Board):\n",
    "    def ECT(self):\n",
    "        print('My ECT value is 32')\n"
   ]
  },
  {
   "cell_type": "markdown",
   "metadata": {},
   "source": [
    "The above example shows the parent classes _Paper_ and _Board_ and _Sleeve_\n",
    "The _Sleeve_ is made up of _Board_ so it's has properties of _Board_ also the board is made up of _Paper_ so it also shows the properties of _Paper_"
   ]
  },
  {
   "cell_type": "markdown",
   "metadata": {},
   "source": [
    "In short the _Sleeve_ inherites the property of both _Paper_ and _Board_"
   ]
  },
  {
   "cell_type": "code",
   "execution_count": 10,
   "metadata": {},
   "outputs": [
    {
     "name": "stdout",
     "output_type": "stream",
     "text": [
      "I have 20 m^2 area\n",
      "My ECT value is 32\n",
      "my brusting factor is 28 kg/cm^2\n"
     ]
    }
   ],
   "source": [
    "sleeve = Sleeve()\n",
    "sleeve.Area()\n",
    "sleeve.ECT()\n",
    "sleeve.Bursting_factor()\n"
   ]
  }
 ],
 "metadata": {
  "interpreter": {
   "hash": "c93573fdd8ef4564bf1c2e292669be22262dc77319d4aef3d250a4aabeca8ecd"
  },
  "kernelspec": {
   "display_name": "Python 3.9.6 64-bit",
   "language": "python",
   "name": "python3"
  },
  "language_info": {
   "codemirror_mode": {
    "name": "ipython",
    "version": 3
   },
   "file_extension": ".py",
   "mimetype": "text/x-python",
   "name": "python",
   "nbconvert_exporter": "python",
   "pygments_lexer": "ipython3",
   "version": "3.9.6"
  },
  "orig_nbformat": 4
 },
 "nbformat": 4,
 "nbformat_minor": 2
}
